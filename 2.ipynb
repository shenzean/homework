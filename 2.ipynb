{
 "cells": [
  {
   "cell_type": "code",
   "execution_count": 1,
   "metadata": {},
   "outputs": [],
   "source": [
    "from sklearn.datasets import make_moons\n",
    "from matplotlib import pyplot\n",
    "from pandas import DataFrame\n",
    "import tensorflow as tf\n",
    "from tensorflow.keras.layers import Dense\n",
    "from tensorflow.keras.models import Sequential\n",
    "import math\n",
    "import numpy as np\n",
    "from sklearn.preprocessing import MinMaxScaler\n",
    "from sklearn.metrics import accuracy_score, f1_score\n",
    "import pandas as pd\n",
    "from matplotlib import pyplot as plt\n",
    "\n",
    "tf.random.set_seed(678)"
   ]
  },
  {
   "cell_type": "markdown",
   "metadata": {},
   "source": [
    "# Training and test data"
   ]
  },
  {
   "cell_type": "code",
   "execution_count": 2,
   "metadata": {},
   "outputs": [
    {
     "data": {
      "image/png": "[encoded data removed]",
      "text/plain": [
       "<Figure size 432x288 with 1 Axes>"
      ]
     },
     "metadata": {
      "needs_background": "light"
     },
     "output_type": "display_data"
    }
   ],
   "source": [
    "train_X, train_y = make_moons(n_samples=100, noise=0.2, random_state=1)\n",
    "scaler = MinMaxScaler()\n",
    "train_X_norm = scaler.fit_transform(train_X)\n",
    "\n",
    "# scatter plot, dots colored by class value\n",
    "df_train = DataFrame(dict(x=train_X_norm[:,0], y=train_X_norm[:,1], label=train_y))\n",
    "colors = {0:'red', 1:'blue'}\n",
    "fig, ax = pyplot.subplots()\n",
    "grouped = df_train.groupby('label')\n",
    "for key, group in grouped:\n",
    "    group.plot(ax=ax, kind='scatter', x='x', y='y', label=key, color=colors[key])\n",
    "pyplot.show()"
   ]
  },
  {
   "cell_type": "code",
   "execution_count": 3,
   "metadata": {},
   "outputs": [
    {
     "data": {
      "image/png": "[encoded data removed]",
      "text/plain": [
       "<Figure size 432x288 with 1 Axes>"
      ]
     },
     "metadata": {
      "needs_background": "light"
     },
     "output_type": "display_data"
    }
   ],
   "source": [
    "test_X, test_y = make_moons(n_samples=100, noise=0.25, random_state=1)\n",
    "test_X_norm = scaler.transform(test_X)\n",
    "\n",
    "# scatter plot, dots colored by class value\n",
    "df_test = DataFrame(dict(x=test_X_norm[:,0], y=test_X_norm[:,1], label=test_y))\n",
    "colors = {0:'red', 1:'blue'}\n",
    "fig, ax = pyplot.subplots()\n",
    "grouped = df_test.groupby('label')\n",
    "for key, group in grouped:\n",
    "    group.plot(ax=ax, kind='scatter', x='x', y='y', label=key, color=colors[key])\n",
    "pyplot.show()"
   ]
  },
  {
   "cell_type": "markdown",
   "metadata": {},
   "source": [
    "# Train and test"
   ]
  },
  {
   "cell_type": "code",
   "execution_count": 4,
   "metadata": {},
   "outputs": [
    {
     "name": "stdout",
     "output_type": "stream",
     "text": [
      "Train on 100 samples\n",
      "Epoch 1/100\n",
      "100/100 [==============================] - 1s 8ms/sample - loss: 0.6872 - accuracy: 0.5600\n",
      "Epoch 2/100\n",
      "100/100 [==============================] - 0s 240us/sample - loss: 0.6869 - accuracy: 0.6600\n",
      "Epoch 3/100\n",
      "100/100 [==============================] - 0s 250us/sample - loss: 0.6867 - accuracy: 0.8200\n",
      "Epoch 4/100\n",
      "100/100 [==============================] - 0s 250us/sample - loss: 0.6865 - accuracy: 0.6800\n",
      "Epoch 5/100\n",
      "100/100 [==============================] - 0s 250us/sample - loss: 0.6863 - accuracy: 0.5600\n",
      "Epoch 6/100\n",
      "100/100 [==============================] - 0s 240us/sample - loss: 0.6861 - accuracy: 0.6300\n",
      "Epoch 7/100\n",
      "100/100 [==============================] - 0s 240us/sample - loss: 0.6858 - accuracy: 0.5800\n",
      "Epoch 8/100\n",
      "100/100 [==============================] - 0s 240us/sample - loss: 0.6856 - accuracy: 0.6900\n",
      "Epoch 9/100\n",
      "100/100 [==============================] - 0s 260us/sample - loss: 0.6854 - accuracy: 0.7200\n",
      "Epoch 10/100\n",
      "100/100 [==============================] - 0s 230us/sample - loss: 0.6850 - accuracy: 0.7400\n",
      "Epoch 11/100\n",
      "100/100 [==============================] - 0s 250us/sample - loss: 0.6848 - accuracy: 0.6400\n",
      "Epoch 12/100\n",
      "100/100 [==============================] - 0s 260us/sample - loss: 0.6845 - accuracy: 0.7300\n",
      "Epoch 13/100\n",
      "100/100 [==============================] - 0s 240us/sample - loss: 0.6843 - accuracy: 0.7200\n",
      "Epoch 14/100\n",
      "100/100 [==============================] - 0s 230us/sample - loss: 0.6839 - accuracy: 0.7200\n",
      "Epoch 15/100\n",
      "100/100 [==============================] - 0s 250us/sample - loss: 0.6836 - accuracy: 0.7600\n",
      "Epoch 16/100\n",
      "100/100 [==============================] - 0s 220us/sample - loss: 0.6833 - accuracy: 0.7200\n",
      "Epoch 17/100\n",
      "100/100 [==============================] - 0s 340us/sample - loss: 0.6832 - accuracy: 0.6600\n",
      "Epoch 18/100\n",
      "100/100 [==============================] - 0s 310us/sample - loss: 0.6827 - accuracy: 0.7800\n",
      "Epoch 19/100\n",
      "100/100 [==============================] - 0s 260us/sample - loss: 0.6824 - accuracy: 0.7600\n",
      "Epoch 20/100\n",
      "100/100 [==============================] - 0s 270us/sample - loss: 0.6821 - accuracy: 0.7800\n",
      "Epoch 21/100\n",
      "100/100 [==============================] - 0s 280us/sample - loss: 0.6818 - accuracy: 0.8000\n",
      "Epoch 22/100\n",
      "100/100 [==============================] - 0s 250us/sample - loss: 0.6815 - accuracy: 0.8000\n",
      "Epoch 23/100\n",
      "100/100 [==============================] - 0s 250us/sample - loss: 0.6811 - accuracy: 0.8100\n",
      "Epoch 24/100\n",
      "100/100 [==============================] - 0s 270us/sample - loss: 0.6806 - accuracy: 0.8200\n",
      "Epoch 25/100\n",
      "100/100 [==============================] - 0s 280us/sample - loss: 0.6802 - accuracy: 0.8000\n",
      "Epoch 26/100\n",
      "100/100 [==============================] - 0s 360us/sample - loss: 0.6799 - accuracy: 0.7800\n",
      "Epoch 27/100\n",
      "100/100 [==============================] - 0s 350us/sample - loss: 0.6795 - accuracy: 0.8100\n",
      "Epoch 28/100\n",
      "100/100 [==============================] - 0s 340us/sample - loss: 0.6790 - accuracy: 0.7700\n",
      "Epoch 29/100\n",
      "100/100 [==============================] - 0s 320us/sample - loss: 0.6785 - accuracy: 0.8000\n",
      "Epoch 30/100\n",
      "100/100 [==============================] - 0s 300us/sample - loss: 0.6782 - accuracy: 0.8500\n",
      "Epoch 31/100\n",
      "100/100 [==============================] - 0s 320us/sample - loss: 0.6777 - accuracy: 0.8300\n",
      "Epoch 32/100\n",
      "100/100 [==============================] - 0s 260us/sample - loss: 0.6772 - accuracy: 0.8300\n",
      "Epoch 33/100\n",
      "100/100 [==============================] - 0s 270us/sample - loss: 0.6767 - accuracy: 0.8500\n",
      "Epoch 34/100\n",
      "100/100 [==============================] - 0s 280us/sample - loss: 0.6763 - accuracy: 0.8500\n",
      "Epoch 35/100\n",
      "100/100 [==============================] - 0s 310us/sample - loss: 0.6757 - accuracy: 0.8300\n",
      "Epoch 36/100\n",
      "100/100 [==============================] - 0s 270us/sample - loss: 0.6750 - accuracy: 0.8600\n",
      "Epoch 37/100\n",
      "100/100 [==============================] - 0s 270us/sample - loss: 0.6745 - accuracy: 0.8400\n",
      "Epoch 38/100\n",
      "100/100 [==============================] - 0s 270us/sample - loss: 0.6742 - accuracy: 0.8300\n",
      "Epoch 39/100\n",
      "100/100 [==============================] - 0s 250us/sample - loss: 0.6734 - accuracy: 0.8300\n",
      "Epoch 40/100\n",
      "100/100 [==============================] - 0s 280us/sample - loss: 0.6727 - accuracy: 0.8100\n",
      "Epoch 41/100\n",
      "100/100 [==============================] - 0s 270us/sample - loss: 0.6722 - accuracy: 0.8100\n",
      "Epoch 42/100\n",
      "100/100 [==============================] - 0s 240us/sample - loss: 0.6715 - accuracy: 0.8400\n",
      "Epoch 43/100\n",
      "100/100 [==============================] - 0s 260us/sample - loss: 0.6709 - accuracy: 0.8300\n",
      "Epoch 44/100\n",
      "100/100 [==============================] - 0s 280us/sample - loss: 0.6701 - accuracy: 0.8200\n",
      "Epoch 45/100\n",
      "100/100 [==============================] - 0s 260us/sample - loss: 0.6695 - accuracy: 0.8200\n",
      "Epoch 46/100\n",
      "100/100 [==============================] - 0s 270us/sample - loss: 0.6689 - accuracy: 0.8400\n",
      "Epoch 47/100\n",
      "100/100 [==============================] - 0s 260us/sample - loss: 0.6678 - accuracy: 0.8200\n",
      "Epoch 48/100\n",
      "100/100 [==============================] - 0s 250us/sample - loss: 0.6672 - accuracy: 0.8200\n",
      "Epoch 49/100\n",
      "100/100 [==============================] - 0s 240us/sample - loss: 0.6663 - accuracy: 0.8200\n",
      "Epoch 50/100\n",
      "100/100 [==============================] - 0s 270us/sample - loss: 0.6655 - accuracy: 0.8100\n",
      "Epoch 51/100\n",
      "100/100 [==============================] - 0s 240us/sample - loss: 0.6646 - accuracy: 0.8300\n",
      "Epoch 52/100\n",
      "100/100 [==============================] - 0s 250us/sample - loss: 0.6640 - accuracy: 0.8300\n",
      "Epoch 53/100\n",
      "100/100 [==============================] - 0s 250us/sample - loss: 0.6628 - accuracy: 0.8300\n",
      "Epoch 54/100\n",
      "100/100 [==============================] - 0s 250us/sample - loss: 0.6620 - accuracy: 0.8400\n",
      "Epoch 55/100\n",
      "100/100 [==============================] - 0s 240us/sample - loss: 0.6610 - accuracy: 0.8200\n",
      "Epoch 56/100\n",
      "100/100 [==============================] - 0s 330us/sample - loss: 0.6601 - accuracy: 0.8200\n",
      "Epoch 57/100\n",
      "100/100 [==============================] - 0s 320us/sample - loss: 0.6591 - accuracy: 0.8100\n",
      "Epoch 58/100\n",
      "100/100 [==============================] - 0s 260us/sample - loss: 0.6581 - accuracy: 0.8100\n",
      "Epoch 59/100\n",
      "100/100 [==============================] - 0s 260us/sample - loss: 0.6570 - accuracy: 0.8100\n",
      "Epoch 60/100\n",
      "100/100 [==============================] - 0s 240us/sample - loss: 0.6560 - accuracy: 0.8500\n",
      "Epoch 61/100\n",
      "100/100 [==============================] - 0s 280us/sample - loss: 0.6548 - accuracy: 0.8700\n",
      "Epoch 62/100\n",
      "100/100 [==============================] - 0s 240us/sample - loss: 0.6535 - accuracy: 0.8500\n",
      "Epoch 63/100\n",
      "100/100 [==============================] - 0s 260us/sample - loss: 0.6527 - accuracy: 0.8300\n",
      "Epoch 64/100\n",
      "100/100 [==============================] - 0s 260us/sample - loss: 0.6515 - accuracy: 0.8500\n",
      "Epoch 65/100\n",
      "100/100 [==============================] - 0s 260us/sample - loss: 0.6499 - accuracy: 0.8400\n",
      "Epoch 66/100\n",
      "100/100 [==============================] - 0s 260us/sample - loss: 0.6488 - accuracy: 0.8600\n",
      "Epoch 67/100\n",
      "100/100 [==============================] - 0s 250us/sample - loss: 0.6475 - accuracy: 0.8200\n",
      "Epoch 68/100\n",
      "100/100 [==============================] - 0s 270us/sample - loss: 0.6460 - accuracy: 0.8300\n",
      "Epoch 69/100\n",
      "100/100 [==============================] - 0s 300us/sample - loss: 0.6448 - accuracy: 0.8200\n",
      "Epoch 70/100\n",
      "100/100 [==============================] - 0s 330us/sample - loss: 0.6435 - accuracy: 0.8300\n",
      "Epoch 71/100\n",
      "100/100 [==============================] - 0s 320us/sample - loss: 0.6418 - accuracy: 0.8400\n",
      "Epoch 72/100\n",
      "100/100 [==============================] - 0s 280us/sample - loss: 0.6404 - accuracy: 0.8500\n",
      "Epoch 73/100\n",
      "100/100 [==============================] - 0s 320us/sample - loss: 0.6390 - accuracy: 0.8300\n",
      "Epoch 74/100\n",
      "100/100 [==============================] - 0s 280us/sample - loss: 0.6375 - accuracy: 0.8500\n",
      "Epoch 75/100\n",
      "100/100 [==============================] - 0s 280us/sample - loss: 0.6359 - accuracy: 0.8500\n",
      "Epoch 76/100\n",
      "100/100 [==============================] - 0s 270us/sample - loss: 0.6343 - accuracy: 0.8400\n",
      "Epoch 77/100\n",
      "100/100 [==============================] - 0s 250us/sample - loss: 0.6326 - accuracy: 0.8300\n",
      "Epoch 78/100\n"
     ]
    },
    {
     "name": "stdout",
     "output_type": "stream",
     "text": [
      "100/100 [==============================] - 0s 280us/sample - loss: 0.6312 - accuracy: 0.8700\n",
      "Epoch 79/100\n",
      "100/100 [==============================] - 0s 250us/sample - loss: 0.6291 - accuracy: 0.8700\n",
      "Epoch 80/100\n",
      "100/100 [==============================] - 0s 250us/sample - loss: 0.6275 - accuracy: 0.8500\n",
      "Epoch 81/100\n",
      "100/100 [==============================] - 0s 240us/sample - loss: 0.6257 - accuracy: 0.8700\n",
      "Epoch 82/100\n",
      "100/100 [==============================] - 0s 250us/sample - loss: 0.6239 - accuracy: 0.8600\n",
      "Epoch 83/100\n",
      "100/100 [==============================] - 0s 300us/sample - loss: 0.6223 - accuracy: 0.8700\n",
      "Epoch 84/100\n",
      "100/100 [==============================] - 0s 470us/sample - loss: 0.6206 - accuracy: 0.8600\n",
      "Epoch 85/100\n",
      "100/100 [==============================] - 0s 330us/sample - loss: 0.6184 - accuracy: 0.8600\n",
      "Epoch 86/100\n",
      "100/100 [==============================] - 0s 290us/sample - loss: 0.6164 - accuracy: 0.8500\n",
      "Epoch 87/100\n",
      "100/100 [==============================] - 0s 220us/sample - loss: 0.6147 - accuracy: 0.8700\n",
      "Epoch 88/100\n",
      "100/100 [==============================] - 0s 240us/sample - loss: 0.6124 - accuracy: 0.8700\n",
      "Epoch 89/100\n",
      "100/100 [==============================] - 0s 230us/sample - loss: 0.6105 - accuracy: 0.8400\n",
      "Epoch 90/100\n",
      "100/100 [==============================] - 0s 230us/sample - loss: 0.6081 - accuracy: 0.8600\n",
      "Epoch 91/100\n",
      "100/100 [==============================] - 0s 220us/sample - loss: 0.6062 - accuracy: 0.8400\n",
      "Epoch 92/100\n",
      "100/100 [==============================] - 0s 230us/sample - loss: 0.6038 - accuracy: 0.8700\n",
      "Epoch 93/100\n",
      "100/100 [==============================] - 0s 230us/sample - loss: 0.6018 - accuracy: 0.8600\n",
      "Epoch 94/100\n",
      "100/100 [==============================] - 0s 210us/sample - loss: 0.5994 - accuracy: 0.8700\n",
      "Epoch 95/100\n",
      "100/100 [==============================] - 0s 210us/sample - loss: 0.5971 - accuracy: 0.8700\n",
      "Epoch 96/100\n",
      "100/100 [==============================] - 0s 220us/sample - loss: 0.5946 - accuracy: 0.8600\n",
      "Epoch 97/100\n",
      "100/100 [==============================] - 0s 210us/sample - loss: 0.5925 - accuracy: 0.8600\n",
      "Epoch 98/100\n",
      "100/100 [==============================] - 0s 210us/sample - loss: 0.5903 - accuracy: 0.8500\n",
      "Epoch 99/100\n",
      "100/100 [==============================] - 0s 210us/sample - loss: 0.5877 - accuracy: 0.8500\n",
      "Epoch 100/100\n",
      "100/100 [==============================] - 0s 230us/sample - loss: 0.5852 - accuracy: 0.8700\n"
     ]
    },
    {
     "data": {
      "text/plain": [
       "<tensorflow.python.keras.callbacks.History at 0x26987d56448>"
      ]
     },
     "execution_count": 4,
     "metadata": {},
     "output_type": "execute_result"
    }
   ],
   "source": [
    "model = Sequential()\n",
    "model.add(Dense(units=2, activation='relu', input_dim=2))\n",
    "model.add(Dense(units=2, activation='relu'))\n",
    "model.add(Dense(units=1,activation='sigmoid'))\n",
    "model.compile(loss='binary_crossentropy', optimizer='sgd', metrics=['accuracy'])\n",
    "model.fit(train_X_norm, train_y, epochs=100, batch_size=8, verbose=1)"
   ]
  },
  {
   "cell_type": "code",
   "execution_count": 5,
   "metadata": {},
   "outputs": [
    {
     "name": "stdout",
     "output_type": "stream",
     "text": [
      "Acuracy:  0.86\n",
      "F1 acuracy:  0.8444444444444444\n"
     ]
    }
   ],
   "source": [
    "pred_y = model.predict(test_X_norm,batch_size=4)\n",
    "pred_y_round = np.around((pred_y[:,0]))\n",
    "\n",
    "print('Acuracy: ', accuracy_score(test_y, pred_y_round))\n",
    "print('F1 acuracy: ', f1_score(test_y, pred_y_round))"
   ]
  },
  {
   "cell_type": "code",
   "execution_count": 6,
   "metadata": {},
   "outputs": [
    {
     "data": {
      "image/png": "[encoded data removed]",
      "text/plain": [
       "<Figure size 432x288 with 1 Axes>"
      ]
     },
     "metadata": {
      "needs_background": "light"
     },
     "output_type": "display_data"
    }
   ],
   "source": [
    "df_pred = DataFrame(dict(x=test_X_norm[:,0], y=test_X_norm[:,1], label=pred_y_round))\n",
    "colors = {0:'red', 1:'blue'}\n",
    "fig, ax = pyplot.subplots()\n",
    "grouped = df_pred.groupby('label')\n",
    "for key, group in grouped:\n",
    "    group.plot(ax=ax, kind='scatter', x='x', y='y', label=key, color=colors[key])\n",
    "pyplot.show()"
   ]
  }
 ],
 "metadata": {
  "kernelspec": {
   "display_name": "Python [conda env:tf2_gpu]",
   "language": "python",
   "name": "conda-env-tf2_gpu-py"
  },
  "language_info": {
   "codemirror_mode": {
    "name": "ipython",
    "version": 3
   },
   "file_extension": ".py",
   "mimetype": "text/x-python",
   "name": "python",
   "nbconvert_exporter": "python",
   "pygments_lexer": "ipython3",
   "version": "3.7.7"
  }
 },
 "nbformat": 4,
 "nbformat_minor": 4
}
